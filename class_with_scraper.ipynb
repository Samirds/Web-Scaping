{
 "cells": [
  {
   "cell_type": "code",
   "execution_count": 5,
   "metadata": {},
   "outputs": [],
   "source": [
    "import requests\n",
    "from bs4 import BeautifulSoup\n",
    "import csv"
   ]
  },
  {
   "cell_type": "code",
   "execution_count": 8,
   "metadata": {},
   "outputs": [],
   "source": [
    "class TableScraper:\n",
    "    results = []\n",
    "\n",
    "    def fetch(self, url):\n",
    "        return requests.get(url)\n",
    "    \n",
    "    def parse(self, html):\n",
    "        content = BeautifulSoup(html, 'html.parser')\n",
    "        table = content.find('table')\n",
    "        rows = table.findAll('tr')\n",
    "        self.results.append([header.text for header in rows[0].findAll('th')])\n",
    "        \n",
    "        for row in rows:\n",
    "            if len(row.findAll('td')):\n",
    "                self.results.append([data.get_text(strip=True) for data in row.findAll('td')])\n",
    "    \n",
    "    def to_csv(self):\n",
    "        with open('table.csv', 'w') as csv_file:\n",
    "            writer = csv.writer(csv_file)\n",
    "            writer.writerows(self.results)\n",
    "    \n",
    "    def run(self):\n",
    "        response = self.fetch(\"https://agmarknet.gov.in/SearchCmmMkt.aspx?Tx_Commodity=24&Tx_State=UP&Tx_District=1&Tx_Market=0&DateFrom=01-Jan-2020&DateTo=31-Dec-2020&Fr_Date=01-Jan-2020&To_Date=31-Dec-2020&Tx_Trend=0&Tx_CommodityHead=Potato&Tx_StateHead=Uttar+Pradesh&Tx_DistrictHead=Agra&Tx_MarketHead=--Select--\")\n",
    "        self.parse(response.text)\n",
    "        self.to_csv()\n",
    "\n",
    "if __name__ == '__main__':\n",
    "    scraper = TableScraper()\n",
    "    scraper.run()\n",
    "    \n",
    "# url = \"https://agmarknet.gov.in/SearchCmmMkt.aspx?Tx_Commodity=24&Tx_State=UP&Tx_District=1&Tx_Market=0&DateFrom=20-Mar-2021&DateTo=20-Mar-2021&Fr_Date=20-Mar\u00022021&To_Date=20-Mar\u00022021&Tx_Trend=0&Tx_CommodityHead=Potato&Tx_StateHead=Uttar+Pradesh&Tx_DistrictHead=Agra&Tx_MarketHead=--Select--\""
   ]
  },
  {
   "cell_type": "code",
   "execution_count": null,
   "metadata": {},
   "outputs": [],
   "source": []
  },
  {
   "cell_type": "code",
   "execution_count": null,
   "metadata": {},
   "outputs": [],
   "source": []
  }
 ],
 "metadata": {
  "kernelspec": {
   "display_name": "Python 3",
   "language": "python",
   "name": "python3"
  },
  "language_info": {
   "codemirror_mode": {
    "name": "ipython",
    "version": 3
   },
   "file_extension": ".py",
   "mimetype": "text/x-python",
   "name": "python",
   "nbconvert_exporter": "python",
   "pygments_lexer": "ipython3",
   "version": "3.8.5"
  }
 },
 "nbformat": 4,
 "nbformat_minor": 4
}
